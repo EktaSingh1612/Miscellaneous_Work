{
 "cells": [
  {
   "cell_type": "markdown",
   "id": "b271dda0-022d-4329-ae79-3ad759f41f4e",
   "metadata": {},
   "source": [
    "## Importing important libraries"
   ]
  },
  {
   "cell_type": "code",
   "execution_count": 1,
   "id": "0790f48d-7b12-47fe-b63c-b085d68f5fdc",
   "metadata": {},
   "outputs": [],
   "source": [
    "import plotly.express as px\n",
    "import plotly\n",
    "import pandas as pd\n",
    "\n",
    "#interactive chart\n",
    "import plotly.figure_factory as ff"
   ]
  },
  {
   "cell_type": "markdown",
   "id": "6ef042f2-3764-41b6-8e9a-f7f108a5a603",
   "metadata": {},
   "source": [
    "## Read dataframe from excel file"
   ]
  },
  {
   "cell_type": "code",
   "execution_count": 2,
   "id": "542e8100-5d03-48ca-af84-70435d62db9e",
   "metadata": {},
   "outputs": [
    {
     "name": "stdout",
     "output_type": "stream",
     "text": [
      "                  Task      Start     Finish  Complete in %\n",
      "0     Automated Report 2022-04-19 2022-05-05             75\n",
      "1       Folder Cleanup 2022-04-29 2022-03-05             40\n",
      "2  Create Presentation 2022-04-05 2022-08-05             90\n",
      "3        Data Analysis 2022-04-03 2022-05-07             27\n",
      "4                  EDA 2022-04-05 2022-07-08             63\n"
     ]
    }
   ],
   "source": [
    "df = pd.read_excel('Gantt diagram.xlsx')\n",
    "print(df)"
   ]
  },
  {
   "cell_type": "markdown",
   "id": "f805360a-bd56-444c-bcf6-b9ceb0e36ef3",
   "metadata": {},
   "source": [
    "## Assign columns to variables"
   ]
  },
  {
   "cell_type": "code",
   "execution_count": 3,
   "id": "2b7933ee-df94-44f7-abb8-768a27c797eb",
   "metadata": {},
   "outputs": [
    {
     "name": "stdout",
     "output_type": "stream",
     "text": [
      "0       Automated Report\n",
      "1         Folder Cleanup\n",
      "2    Create Presentation\n",
      "3          Data Analysis\n",
      "4                    EDA\n",
      "Name: Task, dtype: object\n"
     ]
    }
   ],
   "source": [
    "tasks = df['Task']\n",
    "start= df['Start']\n",
    "finish=df['Finish']\n",
    "complete=df['Complete in %']\n",
    "\n",
    "print(tasks)"
   ]
  },
  {
   "cell_type": "markdown",
   "id": "855e709f-0cf4-4151-877c-a098d47be3a7",
   "metadata": {},
   "source": [
    "## Create Gantt Chart"
   ]
  },
  {
   "cell_type": "code",
   "execution_count": 4,
   "id": "2cce7882-6515-474a-a608-76d0d3ecc9d3",
   "metadata": {},
   "outputs": [
    {
     "data": {
      "text/plain": [
       "'Task_Overview_Gantt.html'"
      ]
     },
     "execution_count": 4,
     "metadata": {},
     "output_type": "execute_result"
    }
   ],
   "source": [
    "fig=px.timeline(df,x_start=start, x_end=finish, y=tasks, color=complete, title='Task Overview')\n",
    "\n",
    "#Update/Change layout\n",
    "\n",
    "fig.update_yaxes(autorange='reversed')\n",
    "fig.update_layout(title_font_size=42,\n",
    "                 font_size=18,\n",
    "                 title_font_family='Arial')\n",
    "\n",
    "fig = ff.create_gantt(df)\n",
    "\n",
    "#Save graph and export to HTML\n",
    "\n",
    "plotly.offline.plot(fig, filename='Task_Overview_Gantt.html')"
   ]
  }
 ],
 "metadata": {
  "kernelspec": {
   "display_name": "Python 3 (ipykernel)",
   "language": "python",
   "name": "python3"
  },
  "language_info": {
   "codemirror_mode": {
    "name": "ipython",
    "version": 3
   },
   "file_extension": ".py",
   "mimetype": "text/x-python",
   "name": "python",
   "nbconvert_exporter": "python",
   "pygments_lexer": "ipython3",
   "version": "3.8.8"
  }
 },
 "nbformat": 4,
 "nbformat_minor": 5
}
